{
 "cells": [
  {
   "cell_type": "code",
   "execution_count": 1,
   "id": "2ea36cb6-97fc-4be7-b3f9-4cd350597325",
   "metadata": {},
   "outputs": [
    {
     "name": "stdout",
     "output_type": "stream",
     "text": [
      "Collecting pymongo\n",
      "  Downloading pymongo-4.1.1-cp38-cp38-win_amd64.whl (365 kB)\n",
      "Installing collected packages: pymongo\n",
      "Successfully installed pymongo-4.1.1\n"
     ]
    }
   ],
   "source": [
    "!pip3 install pymongo"
   ]
  },
  {
   "cell_type": "code",
   "execution_count": 4,
   "id": "c1104481-856b-45da-845e-58645afe2e1c",
   "metadata": {},
   "outputs": [],
   "source": [
    "from pymongo import MongoClient\n",
    "from pprint import pprint\n",
    "import requests"
   ]
  },
  {
   "cell_type": "code",
   "execution_count": 5,
   "id": "4a155460-8f3b-4042-8872-c6ee108db4c0",
   "metadata": {},
   "outputs": [],
   "source": [
    "client = MongoClient()"
   ]
  },
  {
   "cell_type": "code",
   "execution_count": 6,
   "id": "c7fd646a-59de-4a44-9095-456d95b0eed8",
   "metadata": {},
   "outputs": [],
   "source": [
    "db = client['bipm']"
   ]
  },
  {
   "cell_type": "code",
   "execution_count": 7,
   "id": "a09810a1-7d8b-4df8-88e4-72fdde5a1d79",
   "metadata": {},
   "outputs": [],
   "source": [
    "db.courses.drop()"
   ]
  },
  {
   "cell_type": "code",
   "execution_count": 8,
   "id": "414ed5be-d3ef-470c-99e6-f6588842367f",
   "metadata": {},
   "outputs": [],
   "source": [
    "courses = [\n",
    "    {'title': 'Data Science',\n",
    "     'lecturer': {\n",
    "         'name': 'Markus Löcher',\n",
    "         'department': 'Math',\n",
    "         'status': 'Professor'\n",
    "     },\n",
    "     'semester': 1},\n",
    "    {'title': 'Data Warehousing',\n",
    "     'lecturer': {\n",
    "         'name': 'Roland M. Mueller',\n",
    "         'department': 'Information Systems',\n",
    "         'status': 'Professor'\n",
    "     },\n",
    "     'semester': 1},\n",
    "    {'title': 'Business Process Management',\n",
    "     'lecturer': {\n",
    "         'name': 'Frank Habermann',\n",
    "         'department': 'Information Systems',\n",
    "         'status': 'Professor'\n",
    "     },\n",
    "     'semester': 1},\n",
    "    {'title': 'Stratigic Issues of IT',\n",
    "     'lecturer': {\n",
    "         'name': 'Sven Pohland',\n",
    "         'department': 'Information Systems',\n",
    "         'status': 'Professor'\n",
    "     },\n",
    "     'semester': 1},\n",
    "    {'title': 'Text, Web and Social Media Analytics Lab',\n",
    "     'lecturer': {\n",
    "         'name': 'Markus Löcher',\n",
    "         'department': 'Math',\n",
    "         'status': 'Professor'\n",
    "     },\n",
    "     'semester': 2},\n",
    "    {'title': 'Enterprise Architectures for Big Data',\n",
    "     'lecturer': {\n",
    "         'name': 'Roland M. Mueller',\n",
    "         'department': 'Information Systems',\n",
    "         'status': 'Professor'\n",
    "     },\n",
    "     'semester': 2},\n",
    "    {'title': 'Business Process Integration Lab',\n",
    "     'lecturer': {\n",
    "         'name': 'Frank Habermann',\n",
    "         'department': 'Information Systems',\n",
    "         'status': 'Professor'\n",
    "     },\n",
    "     'semester': 2},\n",
    "    {'title': 'IT-Security and Privacy',\n",
    "     'lecturer': {\n",
    "         'name': 'Dennis Uckel',\n",
    "         'department': 'Information Systems',\n",
    "         'status': 'External'\n",
    "     },\n",
    "     'semester': 2},\n",
    "    {'title': 'Research Methods',\n",
    "     'lecturer': {\n",
    "         'name': 'Marcus Birkenkrahe',\n",
    "         'department': 'Information Systems',\n",
    "         'status': 'Professor'\n",
    "     },\n",
    "     'semester': 2},\n",
    "]"
   ]
  },
  {
   "cell_type": "code",
   "execution_count": 9,
   "id": "69bdb0f9-a586-4f9f-aa39-f01c228d8c6d",
   "metadata": {},
   "outputs": [
    {
     "data": {
      "text/plain": [
       "<pymongo.results.InsertManyResult at 0x1a307d2e490>"
      ]
     },
     "execution_count": 9,
     "metadata": {},
     "output_type": "execute_result"
    }
   ],
   "source": [
    "db.courses.insert_many(courses)"
   ]
  },
  {
   "cell_type": "code",
   "execution_count": 10,
   "id": "66478337-3099-43fe-8804-501ca2f9254c",
   "metadata": {},
   "outputs": [
    {
     "name": "stdout",
     "output_type": "stream",
     "text": [
      "{'_id': ObjectId('6292230122425391244f16bb'),\n",
      " 'lecturer': {'department': 'Math',\n",
      "              'name': 'Markus Löcher',\n",
      "              'status': 'Professor'},\n",
      " 'semester': 1,\n",
      " 'title': 'Data Science'}\n",
      "{'_id': ObjectId('6292230122425391244f16bc'),\n",
      " 'lecturer': {'department': 'Information Systems',\n",
      "              'name': 'Roland M. Mueller',\n",
      "              'status': 'Professor'},\n",
      " 'semester': 1,\n",
      " 'title': 'Data Warehousing'}\n",
      "{'_id': ObjectId('6292230122425391244f16bd'),\n",
      " 'lecturer': {'department': 'Information Systems',\n",
      "              'name': 'Frank Habermann',\n",
      "              'status': 'Professor'},\n",
      " 'semester': 1,\n",
      " 'title': 'Business Process Management'}\n",
      "{'_id': ObjectId('6292230122425391244f16be'),\n",
      " 'lecturer': {'department': 'Information Systems',\n",
      "              'name': 'Sven Pohland',\n",
      "              'status': 'Professor'},\n",
      " 'semester': 1,\n",
      " 'title': 'Stratigic Issues of IT'}\n",
      "{'_id': ObjectId('6292230122425391244f16bf'),\n",
      " 'lecturer': {'department': 'Math',\n",
      "              'name': 'Markus Löcher',\n",
      "              'status': 'Professor'},\n",
      " 'semester': 2,\n",
      " 'title': 'Text, Web and Social Media Analytics Lab'}\n",
      "{'_id': ObjectId('6292230122425391244f16c0'),\n",
      " 'lecturer': {'department': 'Information Systems',\n",
      "              'name': 'Roland M. Mueller',\n",
      "              'status': 'Professor'},\n",
      " 'semester': 2,\n",
      " 'title': 'Enterprise Architectures for Big Data'}\n",
      "{'_id': ObjectId('6292230122425391244f16c1'),\n",
      " 'lecturer': {'department': 'Information Systems',\n",
      "              'name': 'Frank Habermann',\n",
      "              'status': 'Professor'},\n",
      " 'semester': 2,\n",
      " 'title': 'Business Process Integration Lab'}\n",
      "{'_id': ObjectId('6292230122425391244f16c2'),\n",
      " 'lecturer': {'department': 'Information Systems',\n",
      "              'name': 'Dennis Uckel',\n",
      "              'status': 'External'},\n",
      " 'semester': 2,\n",
      " 'title': 'IT-Security and Privacy'}\n",
      "{'_id': ObjectId('6292230122425391244f16c3'),\n",
      " 'lecturer': {'department': 'Information Systems',\n",
      "              'name': 'Marcus Birkenkrahe',\n",
      "              'status': 'Professor'},\n",
      " 'semester': 2,\n",
      " 'title': 'Research Methods'}\n"
     ]
    }
   ],
   "source": [
    "# Print all courses\n",
    "\n",
    "cursor = db.courses.find()\n",
    "\n",
    "for document in cursor:\n",
    "    pprint(document)"
   ]
  },
  {
   "cell_type": "code",
   "execution_count": 13,
   "id": "67af61f6-52a5-483b-a074-e978c028fcdb",
   "metadata": {},
   "outputs": [
    {
     "data": {
      "text/plain": [
       "{'title': 'Master Thesis', 'semester': 3}"
      ]
     },
     "execution_count": 13,
     "metadata": {},
     "output_type": "execute_result"
    }
   ],
   "source": [
    "my_json = '{\"title\": \"Master Thesis\", \"semester\": 3}'\n",
    "\n",
    "import json\n",
    "another_course = json.loads(my_json)\n",
    "\n",
    "another_course"
   ]
  },
  {
   "cell_type": "code",
   "execution_count": 14,
   "id": "f3906d4b-b158-446a-ad38-87c8781d79c2",
   "metadata": {},
   "outputs": [
    {
     "name": "stdout",
     "output_type": "stream",
     "text": [
      "{'_id': ObjectId('6292230122425391244f16bb'),\n",
      " 'lecturer': {'department': 'Math',\n",
      "              'name': 'Markus Löcher',\n",
      "              'status': 'Professor'},\n",
      " 'semester': 1,\n",
      " 'title': 'Data Science'}\n",
      "{'_id': ObjectId('6292230122425391244f16bc'),\n",
      " 'lecturer': {'department': 'Information Systems',\n",
      "              'name': 'Roland M. Mueller',\n",
      "              'status': 'Professor'},\n",
      " 'semester': 1,\n",
      " 'title': 'Data Warehousing'}\n",
      "{'_id': ObjectId('6292230122425391244f16bd'),\n",
      " 'lecturer': {'department': 'Information Systems',\n",
      "              'name': 'Frank Habermann',\n",
      "              'status': 'Professor'},\n",
      " 'semester': 1,\n",
      " 'title': 'Business Process Management'}\n",
      "{'_id': ObjectId('6292230122425391244f16be'),\n",
      " 'lecturer': {'department': 'Information Systems',\n",
      "              'name': 'Sven Pohland',\n",
      "              'status': 'Professor'},\n",
      " 'semester': 1,\n",
      " 'title': 'Stratigic Issues of IT'}\n",
      "{'_id': ObjectId('6292230122425391244f16bf'),\n",
      " 'lecturer': {'department': 'Math',\n",
      "              'name': 'Markus Löcher',\n",
      "              'status': 'Professor'},\n",
      " 'semester': 2,\n",
      " 'title': 'Text, Web and Social Media Analytics Lab'}\n",
      "{'_id': ObjectId('6292230122425391244f16c0'),\n",
      " 'lecturer': {'department': 'Information Systems',\n",
      "              'name': 'Roland M. Mueller',\n",
      "              'status': 'Professor'},\n",
      " 'semester': 2,\n",
      " 'title': 'Enterprise Architectures for Big Data'}\n",
      "{'_id': ObjectId('6292230122425391244f16c1'),\n",
      " 'lecturer': {'department': 'Information Systems',\n",
      "              'name': 'Frank Habermann',\n",
      "              'status': 'Professor'},\n",
      " 'semester': 2,\n",
      " 'title': 'Business Process Integration Lab'}\n",
      "{'_id': ObjectId('6292230122425391244f16c2'),\n",
      " 'lecturer': {'department': 'Information Systems',\n",
      "              'name': 'Dennis Uckel',\n",
      "              'status': 'External'},\n",
      " 'semester': 2,\n",
      " 'title': 'IT-Security and Privacy'}\n",
      "{'_id': ObjectId('6292230122425391244f16c3'),\n",
      " 'lecturer': {'department': 'Information Systems',\n",
      "              'name': 'Marcus Birkenkrahe',\n",
      "              'status': 'Professor'},\n",
      " 'semester': 2,\n",
      " 'title': 'Research Methods'}\n",
      "{'_id': ObjectId('629223f522425391244f16c4'),\n",
      " 'semester': 3,\n",
      " 'title': 'Master Thesis'}\n"
     ]
    }
   ],
   "source": [
    "# Store \"another_course\"\n",
    "db.courses.insert_one(another_course)\n",
    "\n",
    "# Print all courses\n",
    "cursor = db.courses.find()\n",
    "\n",
    "for document in cursor:\n",
    "    pprint(document)"
   ]
  },
  {
   "cell_type": "code",
   "execution_count": 16,
   "id": "ed4a6218-e12d-40c2-9025-1297619ecfba",
   "metadata": {},
   "outputs": [
    {
     "name": "stdout",
     "output_type": "stream",
     "text": [
      "6292230122425391244f16bb\n",
      "Markus Löcher\n"
     ]
    }
   ],
   "source": [
    "# Find the course with the title \"Data Science\"\n",
    "\n",
    "result = db.courses.find_one({\"title\": \"Data Science\"})\n",
    "\n",
    "print(result[\"_id\"])\n",
    "print(result[\"lecturer\"][\"name\"])"
   ]
  },
  {
   "cell_type": "code",
   "execution_count": 19,
   "id": "0e655743-7bf8-46f5-ae9c-cfd2261dabe8",
   "metadata": {},
   "outputs": [
    {
     "name": "stdout",
     "output_type": "stream",
     "text": [
      "Text, Web and Social Media Analytics Lab\n"
     ]
    }
   ],
   "source": [
    "# Print the first course in the 2nd semester \n",
    "\n",
    "result1 = db.courses.find_one({\"semester\": 2})\n",
    "\n",
    "print(result1['title'])"
   ]
  },
  {
   "cell_type": "code",
   "execution_count": 30,
   "id": "d422a25f-b736-4c6c-a35e-474a76cf5fee",
   "metadata": {},
   "outputs": [
    {
     "name": "stdout",
     "output_type": "stream",
     "text": [
      "'Text, Web and Social Media Analytics Lab'\n",
      "'Enterprise Architectures for Big Data'\n",
      "'Business Process Integration Lab'\n",
      "'IT-Security and Privacy'\n",
      "'Research Methods'\n"
     ]
    }
   ],
   "source": [
    "# Print all the courses in the 2nd semester  and print the title\n",
    "\n",
    "result2 = db.courses.find({\"semester\": 2})\n",
    "\n",
    "for document in result2: \n",
    "    pprint(document[\"title\"])"
   ]
  },
  {
   "cell_type": "code",
   "execution_count": 34,
   "id": "bad11978-6055-4b61-ab02-e76713e403c5",
   "metadata": {},
   "outputs": [
    {
     "name": "stdout",
     "output_type": "stream",
     "text": [
      "'Markus Löcher'\n",
      "'Roland M. Mueller'\n",
      "'Frank Habermann'\n",
      "'Dennis Uckel'\n",
      "'Marcus Birkenkrahe'\n"
     ]
    }
   ],
   "source": [
    "# Find all courses in 2nd semester and print the lecturers' names \n",
    "\n",
    "result2 = db.courses.find({\"semester\": 2})\n",
    "\n",
    "for document in result2: \n",
    "    pprint(document[\"lecturer\"][\"name\"])"
   ]
  },
  {
   "cell_type": "code",
   "execution_count": 36,
   "id": "67526332-dc13-4fda-b87b-7f0e8133a093",
   "metadata": {},
   "outputs": [
    {
     "name": "stdout",
     "output_type": "stream",
     "text": [
      "'Business Process Management'\n",
      "1\n",
      "'Business Process Integration Lab'\n",
      "2\n"
     ]
    }
   ],
   "source": [
    "# Find all courses of Frank Habermann and print the title and the semester\n",
    "\n",
    "result3 = db.courses.find({\"lecturer.name\": \"Frank Habermann\"})\n",
    "\n",
    "for document in result3: \n",
    "    pprint(document[\"title\"])\n",
    "    pprint(document[\"semester\"])"
   ]
  },
  {
   "cell_type": "code",
   "execution_count": 38,
   "id": "87f0d9c9-50b8-4903-8efb-5b92ee011b63",
   "metadata": {},
   "outputs": [
    {
     "name": "stdout",
     "output_type": "stream",
     "text": [
      "'Business Process Integration Lab'\n",
      "2\n"
     ]
    }
   ],
   "source": [
    "# Find all courses of Frank Habermann in the 2nd semester \n",
    "\n",
    "result4 = db.courses.find({\"lecturer.name\": \"Frank Habermann\", \"semester\": 2})\n",
    "\n",
    "for document in result4: \n",
    "    pprint(document[\"title\"])\n",
    "    pprint(document[\"semester\"])"
   ]
  },
  {
   "cell_type": "code",
   "execution_count": 39,
   "id": "5ad25dea-21de-4ca8-a635-8402c2ab16f5",
   "metadata": {},
   "outputs": [
    {
     "name": "stdout",
     "output_type": "stream",
     "text": [
      "'Data Science'\n",
      "1\n",
      "'Business Process Management'\n",
      "1\n",
      "'Text, Web and Social Media Analytics Lab'\n",
      "2\n",
      "'Business Process Integration Lab'\n",
      "2\n"
     ]
    }
   ],
   "source": [
    "# Find all courses from Frank Habermann or Markus Löcher \n",
    "\n",
    "result = db.courses.find({\"$or\": [{\"lecturer.name\": \"Frank Habermann\"}, {\"lecturer.name\": \"Markus Löcher\"}]})\n",
    "\n",
    "for document in result: \n",
    "    pprint(document[\"title\"])\n",
    "    pprint(document[\"semester\"])"
   ]
  },
  {
   "cell_type": "code",
   "execution_count": 41,
   "id": "595d5f49-e28b-4dc6-b8b1-617c631b69ca",
   "metadata": {},
   "outputs": [
    {
     "name": "stdout",
     "output_type": "stream",
     "text": [
      "'Text, Web and Social Media Analytics Lab'\n",
      "2\n",
      "'Enterprise Architectures for Big Data'\n",
      "2\n",
      "'Business Process Integration Lab'\n",
      "2\n",
      "'IT-Security and Privacy'\n",
      "2\n",
      "'Research Methods'\n",
      "2\n",
      "'Master Thesis'\n",
      "3\n"
     ]
    }
   ],
   "source": [
    "# Find all courses in semester greater than 1 \n",
    "\n",
    "result = db.courses.find({\"semester\": {\"$gt\": 1}})\n",
    "\n",
    "for document in result: \n",
    "    pprint(document[\"title\"])\n",
    "    pprint(document[\"semester\"])"
   ]
  },
  {
   "cell_type": "code",
   "execution_count": 44,
   "id": "89b59c88-354d-46ea-b784-e9ac1f45ae0e",
   "metadata": {},
   "outputs": [
    {
     "data": {
      "text/plain": [
       "5"
      ]
     },
     "execution_count": 44,
     "metadata": {},
     "output_type": "execute_result"
    }
   ],
   "source": [
    "# How many courses are in the 2nd semester? \n",
    "\n",
    "db.courses.count_documents({\"semester\": 2})"
   ]
  },
  {
   "cell_type": "markdown",
   "id": "c7f2f4f2-7b39-48c4-8dd2-9f30976a3ab2",
   "metadata": {},
   "source": [
    "# Nobel Prize Winner "
   ]
  },
  {
   "cell_type": "code",
   "execution_count": 45,
   "id": "32ce3474-20e3-459f-9478-d64f93c82873",
   "metadata": {},
   "outputs": [],
   "source": [
    "# Create local \"nobel\" database on the fly \n",
    "db = client[\"nobel\"]\n",
    "db.prizes.drop()\n",
    "db.laureates.drop()\n",
    "\n",
    "# API documented at https://nobelprize.readme.io/docs/prize \n",
    "for collection_name in [\"prizes\", \"laureates\"]:\n",
    "    singular = collection_name[:-1] # the API uses singular\n",
    "    response = requests.get( \"http://api.nobelprize.org/v1/{}.json\".format(singular)) \n",
    "    documents = response.json()[collection_name] \n",
    "    # Create collections on the fly \n",
    "    db[collection_name].insert_many(documents)"
   ]
  },
  {
   "cell_type": "code",
   "execution_count": 46,
   "id": "7b1e0278-76c3-4158-b940-dc86db3a3d20",
   "metadata": {},
   "outputs": [
    {
     "name": "stdout",
     "output_type": "stream",
     "text": [
      "{'_id': ObjectId('6292308222425391244f1957'),\n",
      " 'born': '1845-03-27',\n",
      " 'bornCity': 'Lennep (now Remscheid)',\n",
      " 'bornCountry': 'Prussia (now Germany)',\n",
      " 'bornCountryCode': 'DE',\n",
      " 'died': '1923-02-10',\n",
      " 'diedCity': 'Munich',\n",
      " 'diedCountry': 'Germany',\n",
      " 'diedCountryCode': 'DE',\n",
      " 'firstname': 'Wilhelm Conrad',\n",
      " 'gender': 'male',\n",
      " 'id': '1',\n",
      " 'prizes': [{'affiliations': [{'city': 'Munich',\n",
      "                               'country': 'Germany',\n",
      "                               'name': 'Munich University'}],\n",
      "             'category': 'physics',\n",
      "             'motivation': '\"in recognition of the extraordinary services he '\n",
      "                           'has rendered by the discovery of the remarkable '\n",
      "                           'rays subsequently named after him\"',\n",
      "             'share': '1',\n",
      "             'year': '1901'}],\n",
      " 'surname': 'Röntgen'}\n"
     ]
    }
   ],
   "source": [
    "pprint(db.laureates.find_one())"
   ]
  },
  {
   "cell_type": "code",
   "execution_count": 47,
   "id": "c69fb0bf-1213-4fba-a816-ad62b6816b20",
   "metadata": {},
   "outputs": [
    {
     "data": {
      "text/plain": [
       "58"
      ]
     },
     "execution_count": 47,
     "metadata": {},
     "output_type": "execute_result"
    }
   ],
   "source": [
    "# How many female laureates exists? \n",
    "\n",
    "db.laureates.count_documents({\"gender\":\"female\"})"
   ]
  },
  {
   "cell_type": "code",
   "execution_count": 49,
   "id": "4e069add-04fb-4b6f-9c5f-44d80608579e",
   "metadata": {},
   "outputs": [
    {
     "data": {
      "text/plain": [
       "97"
      ]
     },
     "execution_count": 49,
     "metadata": {},
     "output_type": "execute_result"
    }
   ],
   "source": [
    "# How many laureates are from Germany?\n",
    "\n",
    "db.laureates.count_documents({\"bornCountry\":{\"$regex\": \"Germany\"}})"
   ]
  },
  {
   "cell_type": "code",
   "execution_count": 63,
   "id": "668551ee-aa7b-4b65-97d2-e42ff829cca9",
   "metadata": {},
   "outputs": [
    {
     "name": "stdout",
     "output_type": "stream",
     "text": [
      "'1901'\n",
      "'Wilhelm Conrad'\n",
      "'Röntgen'\n",
      "'1909'\n",
      "'Ferdinand'\n",
      "'Braun'\n",
      "'1914'\n",
      "'Max'\n",
      "'von Laue'\n",
      "'1918'\n",
      "'Max'\n",
      "'Planck'\n",
      "'1919'\n",
      "'Johannes'\n",
      "'Stark'\n",
      "'1921'\n",
      "'Albert'\n",
      "'Einstein'\n",
      "'1925'\n",
      "'James'\n",
      "'Franck'\n",
      "'1925'\n",
      "'Gustav'\n",
      "'Hertz'\n",
      "'1932'\n",
      "'Werner'\n",
      "'Heisenberg'\n",
      "'1943'\n",
      "'Otto'\n",
      "'Stern'\n",
      "'1954'\n",
      "'Max'\n",
      "'Born'\n",
      "'1954'\n",
      "'Walther'\n",
      "'Bothe'\n",
      "'1955'\n",
      "'Polykarp'\n",
      "'Kusch'\n",
      "'1961'\n",
      "'Rudolf'\n",
      "'Mössbauer'\n",
      "'1963'\n",
      "'Maria'\n",
      "'Goeppert Mayer'\n",
      "'1963'\n",
      "'J. Hans D.'\n",
      "'Jensen'\n",
      "'1966'\n",
      "'Alfred'\n",
      "'Kastler'\n",
      "'1967'\n",
      "'Hans'\n",
      "'Bethe'\n",
      "'1978'\n",
      "'Arno'\n",
      "'Penzias'\n",
      "'1986'\n",
      "'Ernst'\n",
      "'Ruska'\n",
      "'1986'\n",
      "'Gerd'\n",
      "'Binnig'\n",
      "'1987'\n",
      "'J. Georg'\n",
      "'Bednorz'\n",
      "'1988'\n",
      "'Jack'\n",
      "'Steinberger'\n",
      "'1989'\n",
      "'Hans G.'\n",
      "'Dehmelt'\n",
      "'1989'\n",
      "'Wolfgang'\n",
      "'Paul'\n",
      "'1998'\n",
      "'Horst L.'\n",
      "'Störmer'\n",
      "'2000'\n",
      "'Herbert'\n",
      "'Kroemer'\n",
      "'2001'\n",
      "'Wolfgang'\n",
      "'Ketterle'\n",
      "'2005'\n",
      "'Theodor W.'\n",
      "'Hänsch'\n",
      "'2017'\n",
      "'Rainer'\n",
      "'Weiss'\n",
      "'2020'\n",
      "'Reinhard'\n",
      "'Genzel'\n",
      "'2021'\n",
      "'Klaus'\n",
      "'Hasselmann'\n"
     ]
    }
   ],
   "source": [
    "# Find all physics nobel laureates that are from Germany\n",
    "# print the year of the first prize, the first name, and surename\n",
    "\n",
    "result = db.laureates.find({\"bornCountry\":{\"$regex\": \"Germany\"}, \"prizes.category\":\"physics\"})\n",
    "\n",
    "for document in result:\n",
    "    pprint(document[\"prizes\"][0][\"year\"])\n",
    "    pprint(document[\"firstname\"])\n",
    "    pprint(document[\"surname\"])"
   ]
  },
  {
   "cell_type": "code",
   "execution_count": null,
   "id": "63ad5e8c-75ea-4164-8bbe-65ebf55a0533",
   "metadata": {},
   "outputs": [],
   "source": []
  },
  {
   "cell_type": "code",
   "execution_count": null,
   "id": "4229b0df-708b-49be-ac51-9aade8ef076c",
   "metadata": {},
   "outputs": [],
   "source": []
  },
  {
   "cell_type": "code",
   "execution_count": 56,
   "id": "b6f9c829-d46b-4c95-a89c-a1275cc0bb94",
   "metadata": {},
   "outputs": [
    {
     "name": "stdout",
     "output_type": "stream",
     "text": [
      "{'_id': ObjectId('6292308222425391244f1cc7'),\n",
      " 'born': '1997-07-12',\n",
      " 'bornCity': 'Mingora',\n",
      " 'bornCountry': 'Pakistan',\n",
      " 'bornCountryCode': 'PK',\n",
      " 'died': '0000-00-00',\n",
      " 'firstname': 'Malala',\n",
      " 'gender': 'female',\n",
      " 'id': '914',\n",
      " 'prizes': [{'affiliations': [[]],\n",
      "             'category': 'peace',\n",
      "             'motivation': '\"for their struggle against the suppression of '\n",
      "                           'children and young people and for the right of all '\n",
      "                           'children to education\"',\n",
      "             'share': '2',\n",
      "             'year': '2014'}],\n",
      " 'surname': 'Yousafzai'}\n"
     ]
    }
   ],
   "source": [
    "# Find and print the document for \"Malala\" (firstname)\n",
    "\n",
    "result = db.laureates.find({\"firstname\":\"Malala\"})\n",
    "\n",
    "for document in result:\n",
    "    pprint(document)"
   ]
  },
  {
   "cell_type": "code",
   "execution_count": 64,
   "id": "fb63c04b-bfa1-4960-9822-5a749a43be92",
   "metadata": {},
   "outputs": [
    {
     "name": "stdout",
     "output_type": "stream",
     "text": [
      "'1903'\n",
      "'Marie'\n",
      "'Curie'\n",
      "'1905'\n",
      "'Bertha'\n",
      "'von Suttner'\n",
      "'1909'\n",
      "'Selma'\n",
      "'Lagerlöf'\n",
      "'1926'\n",
      "'Grazia'\n",
      "'Deledda'\n",
      "'1928'\n",
      "'Sigrid'\n",
      "'Undset'\n",
      "'1931'\n",
      "'Jane'\n",
      "'Addams'\n",
      "'1935'\n",
      "'Irène'\n",
      "'Joliot-Curie'\n",
      "'1938'\n",
      "'Pearl'\n",
      "'Buck'\n",
      "'1945'\n",
      "'Gabriela'\n",
      "'Mistral'\n",
      "'1946'\n",
      "'Emily Greene'\n",
      "'Balch'\n",
      "'1947'\n",
      "'Gerty'\n",
      "'Cori'\n",
      "'1963'\n",
      "'Maria'\n",
      "'Goeppert Mayer'\n",
      "'1964'\n",
      "'Dorothy Crowfoot'\n",
      "'Hodgkin'\n",
      "'1966'\n",
      "'Nelly'\n",
      "'Sachs'\n",
      "'1976'\n",
      "'Betty'\n",
      "'Williams'\n",
      "'1976'\n",
      "'Mairead'\n",
      "'Corrigan'\n",
      "'1977'\n",
      "'Rosalyn'\n",
      "'Yalow'\n",
      "'1979'\n",
      "'Anjezë Gonxhe'\n",
      "'Bojaxhiu'\n",
      "'1982'\n",
      "'Alva'\n",
      "'Myrdal'\n",
      "'1983'\n",
      "'Barbara'\n",
      "'McClintock'\n",
      "'1986'\n",
      "'Rita'\n",
      "'Levi-Montalcini'\n",
      "'1988'\n",
      "'Gertrude B.'\n",
      "'Elion'\n",
      "'1991'\n",
      "'Aung San Suu Kyi'\n"
     ]
    },
    {
     "ename": "KeyError",
     "evalue": "'surname'",
     "output_type": "error",
     "traceback": [
      "\u001b[1;31m---------------------------------------------------------------------------\u001b[0m",
      "\u001b[1;31mKeyError\u001b[0m                                  Traceback (most recent call last)",
      "\u001b[1;32m<ipython-input-64-e12e063247f9>\u001b[0m in \u001b[0;36m<module>\u001b[1;34m\u001b[0m\n\u001b[0;32m      9\u001b[0m     \u001b[0mpprint\u001b[0m\u001b[1;33m(\u001b[0m\u001b[0mdocument\u001b[0m\u001b[1;33m[\u001b[0m\u001b[1;34m\"prizes\"\u001b[0m\u001b[1;33m]\u001b[0m\u001b[1;33m[\u001b[0m\u001b[1;36m0\u001b[0m\u001b[1;33m]\u001b[0m\u001b[1;33m[\u001b[0m\u001b[1;34m\"year\"\u001b[0m\u001b[1;33m]\u001b[0m\u001b[1;33m)\u001b[0m\u001b[1;33m\u001b[0m\u001b[1;33m\u001b[0m\u001b[0m\n\u001b[0;32m     10\u001b[0m     \u001b[0mpprint\u001b[0m\u001b[1;33m(\u001b[0m\u001b[0mdocument\u001b[0m\u001b[1;33m[\u001b[0m\u001b[1;34m\"firstname\"\u001b[0m\u001b[1;33m]\u001b[0m\u001b[1;33m)\u001b[0m\u001b[1;33m\u001b[0m\u001b[1;33m\u001b[0m\u001b[0m\n\u001b[1;32m---> 11\u001b[1;33m     \u001b[0mpprint\u001b[0m\u001b[1;33m(\u001b[0m\u001b[0mdocument\u001b[0m\u001b[1;33m[\u001b[0m\u001b[1;34m\"surname\"\u001b[0m\u001b[1;33m]\u001b[0m\u001b[1;33m)\u001b[0m\u001b[1;33m\u001b[0m\u001b[1;33m\u001b[0m\u001b[0m\n\u001b[0m",
      "\u001b[1;31mKeyError\u001b[0m: 'surname'"
     ]
    }
   ],
   "source": [
    "# Find only female nobel laureates \n",
    "# and sort them according the the prize year in ascending order\n",
    "# print year of the first prize, firstname, and surename\n",
    "\n",
    "result = db.laureates.find({\"gender\":\"female\"}).sort([(\"prizes.year\", 1)])\n",
    "\n",
    "for document in result:\n",
    "    #pprint(document)\n",
    "    pprint(document[\"prizes\"][0][\"year\"])\n",
    "    pprint(document[\"firstname\"])\n",
    "    pprint(document[\"surname\"])"
   ]
  }
 ],
 "metadata": {
  "kernelspec": {
   "display_name": "Python 3",
   "language": "python",
   "name": "python3"
  },
  "language_info": {
   "codemirror_mode": {
    "name": "ipython",
    "version": 3
   },
   "file_extension": ".py",
   "mimetype": "text/x-python",
   "name": "python",
   "nbconvert_exporter": "python",
   "pygments_lexer": "ipython3",
   "version": "3.8.8"
  }
 },
 "nbformat": 4,
 "nbformat_minor": 5
}
