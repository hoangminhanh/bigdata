{
  "cells": [
    {
      "cell_type": "markdown",
      "metadata": {
        "id": "view-in-github",
        "colab_type": "text"
      },
      "source": [
        "<a href=\"https://colab.research.google.com/github/hoangminhanh/bigdata/blob/master/EA_Time_Complexity.ipynb\" target=\"_parent\"><img src=\"https://colab.research.google.com/assets/colab-badge.svg\" alt=\"Open In Colab\"/></a>"
      ]
    },
    {
      "cell_type": "code",
      "execution_count": 3,
      "metadata": {
        "id": "I_Od6gbXm29G",
        "outputId": "375baa5b-d571-498e-8672-f01ed8095903",
        "colab": {
          "base_uri": "https://localhost:8080/"
        }
      },
      "outputs": [
        {
          "output_type": "stream",
          "name": "stdout",
          "text": [
            "Requirement already satisfied: sympy in /usr/local/lib/python3.7/dist-packages (1.7.1)\n",
            "Requirement already satisfied: mpmath>=0.19 in /usr/local/lib/python3.7/dist-packages (from sympy) (1.2.1)\n"
          ]
        }
      ],
      "source": [
        "!pip3 install sympy"
      ]
    },
    {
      "cell_type": "code",
      "execution_count": 4,
      "metadata": {
        "id": "MXowfBpym29I"
      },
      "outputs": [],
      "source": [
        "# import symbolic capability to Python\n",
        "from sympy import *\n",
        "from sympy.abc import *\n",
        "from sympy.plotting import plot\n",
        "from IPython.display import display\n",
        "# print things all pretty\n",
        "init_printing()"
      ]
    },
    {
      "cell_type": "markdown",
      "metadata": {
        "id": "t2opFKzVm29J"
      },
      "source": [
        "# Size of the problem: n "
      ]
    },
    {
      "cell_type": "code",
      "execution_count": 6,
      "metadata": {
        "id": "RwbQEZpXm29K"
      },
      "outputs": [],
      "source": [
        "n = symbols(\"n\", positive=True, real=True)"
      ]
    },
    {
      "cell_type": "markdown",
      "metadata": {
        "id": "oqC7WUKkm29L"
      },
      "source": [
        "# Different Functions f with different Time complexity"
      ]
    },
    {
      "cell_type": "code",
      "execution_count": 36,
      "metadata": {
        "id": "aZg1awogm29L"
      },
      "outputs": [],
      "source": [
        "f_constant = 20\n",
        "f_linear = 4 * n + 10\n",
        "f_linear2 = 10 * n +1\n",
        "f_quadratic = 1/4 * n**2 + 1/2*n +1 \n",
        "f_quadratic2 = 1/8 * n**2 "
      ]
    },
    {
      "cell_type": "markdown",
      "metadata": {
        "id": "8bPJ1s_Zm29M"
      },
      "source": [
        "# Definition of Order of Growth (O) (\"Big O\")\n",
        "\n",
        "Order of growth (O) is a set of functions whose asymptotic growth behavior is considered equivalent:\n",
        "\n",
        "Two functions f(n) and g(n) have the equivalent order of growth if $\\displaystyle \\lim_{n \\rightarrow \\infty} \\frac{f(n)}{g(n)} = c$ with $c > 0$ and $c < \\infty $.\n",
        "\n",
        "\n",
        "f(n) has a higher order of growth than g(n) if\n",
        "$\\displaystyle \\lim_{n \\rightarrow \\infty} \\frac{f(n)}{g(n)} = \\infty $.\n",
        "\n",
        "f(n) has a smaller order of growth than g(n) if $\\displaystyle \\lim_{n \\rightarrow \\infty} \\frac{f(n)}{g(n)} = 0 $.\n",
        "\n",
        "$f(n) \\in O(g(n))$ if $\\displaystyle \\lim_{n \\rightarrow \\infty} \\frac{f(n)}{g(n)} = c$ with $c < \\infty $."
      ]
    },
    {
      "cell_type": "markdown",
      "metadata": {
        "id": "M9bV82PDm29N"
      },
      "source": [
        "# Test Order of Growth with the Sympy limit function"
      ]
    },
    {
      "cell_type": "code",
      "execution_count": null,
      "metadata": {
        "id": "udAGcbfGm29N",
        "outputId": "03b60c88-90be-48ea-ceaf-45d522c29f01"
      },
      "outputs": [
        {
          "name": "stderr",
          "output_type": "stream",
          "text": [
            "C:\\Users\\schaal\\Anaconda3\\lib\\site-packages\\IPython\\lib\\latextools.py:126: MatplotlibDeprecationWarning: \n",
            "The to_png function was deprecated in Matplotlib 3.4 and will be removed two minor releases later. Use mathtext.math_to_image instead.\n",
            "  mt.to_png(f, s, fontsize=12, dpi=dpi, color=color)\n",
            "C:\\Users\\schaal\\Anaconda3\\lib\\site-packages\\IPython\\lib\\latextools.py:126: MatplotlibDeprecationWarning: \n",
            "The to_rgba function was deprecated in Matplotlib 3.4 and will be removed two minor releases later. Use mathtext.math_to_image instead.\n",
            "  mt.to_png(f, s, fontsize=12, dpi=dpi, color=color)\n",
            "C:\\Users\\schaal\\Anaconda3\\lib\\site-packages\\IPython\\lib\\latextools.py:126: MatplotlibDeprecationWarning: \n",
            "The to_mask function was deprecated in Matplotlib 3.4 and will be removed two minor releases later. Use mathtext.math_to_image instead.\n",
            "  mt.to_png(f, s, fontsize=12, dpi=dpi, color=color)\n",
            "C:\\Users\\schaal\\Anaconda3\\lib\\site-packages\\IPython\\lib\\latextools.py:126: MatplotlibDeprecationWarning: \n",
            "The MathtextBackendBitmap class was deprecated in Matplotlib 3.4 and will be removed two minor releases later. Use mathtext.math_to_image instead.\n",
            "  mt.to_png(f, s, fontsize=12, dpi=dpi, color=color)\n"
          ]
        },
        {
          "data": {
            "image/png": "[encoded data removed]",
            "text/latex": [
              "$\\displaystyle 2.0$"
            ],
            "text/plain": [
              "2.00000000000000"
            ]
          },
          "execution_count": 5,
          "metadata": {},
          "output_type": "execute_result"
        }
      ],
      "source": [
        "limit(f_quadratic / f_quadratic2, n, oo)"
      ]
    },
    {
      "cell_type": "code",
      "execution_count": null,
      "metadata": {
        "id": "ZmU-vaDLm29O",
        "outputId": "6a4fff14-cf10-4fcc-afa5-83c965457436"
      },
      "outputs": [
        {
          "data": {
            "image/png": "[encoded data removed]",
            "text/latex": [
              "$\\displaystyle \\infty$"
            ],
            "text/plain": [
              "∞"
            ]
          },
          "execution_count": 6,
          "metadata": {},
          "output_type": "execute_result"
        }
      ],
      "source": [
        "limit(f_quadratic / f_linear, n, oo)"
      ]
    },
    {
      "cell_type": "code",
      "execution_count": null,
      "metadata": {
        "id": "YUDfZ21om29P",
        "outputId": "c71b3329-424a-4b7e-d379-8ea6d88ec967"
      },
      "outputs": [
        {
          "data": {
            "image/png": "[encoded data removed]",
            "text/latex": [
              "$\\displaystyle 0$"
            ],
            "text/plain": [
              "0"
            ]
          },
          "execution_count": 7,
          "metadata": {},
          "output_type": "execute_result"
        }
      ],
      "source": [
        "limit( f_linear2 / f_quadratic2, n, oo)"
      ]
    },
    {
      "cell_type": "markdown",
      "metadata": {
        "id": "jnhq6Jtam29P"
      },
      "source": [
        "# Plotting Time Complexity"
      ]
    },
    {
      "cell_type": "code",
      "execution_count": null,
      "metadata": {
        "id": "bOX2qILHm29P",
        "outputId": "09080d2b-952c-4c62-c0db-e8a0dbd37eb4"
      },
      "outputs": [
        {
          "data": {
            "image/png": "[encoded data removed]",
            "text/plain": [
              "<Figure size 432x288 with 1 Axes>"
            ]
          },
          "metadata": {
            "needs_background": "light"
          },
          "output_type": "display_data"
        }
      ],
      "source": [
        "expr_range = (n,0,30)\n",
        "p = plot(\n",
        "    f_constant,\n",
        "    f_linear,\n",
        "    f_quadratic,\n",
        "    expr_range,\n",
        "    show = False,\n",
        "    legend = True\n",
        ");\n",
        "\n",
        "p[0].line_color = 'g'\n",
        "p[1].line_color = 'b'\n",
        "p[2].line_color = 'r'\n",
        "\n",
        "\n",
        "\n",
        "p[0].label = 'constant'\n",
        "p[1].label = 'linear'\n",
        "p[2].label = 'quadratic'\n",
        "\n",
        "p.show()"
      ]
    },
    {
      "cell_type": "markdown",
      "metadata": {
        "id": "7Oyjx9-4m29Q"
      },
      "source": [
        "# Crossover point"
      ]
    },
    {
      "cell_type": "code",
      "execution_count": null,
      "metadata": {
        "id": "k93g3YbXm29Q",
        "outputId": "887d272f-7df8-440b-f236-96f2da1eede2"
      },
      "outputs": [
        {
          "data": {
            "image/png": "[encoded data removed]",
            "text/latex": [
              "$\\displaystyle 0.25 n^{2} + 0.5 n + 1 = 4 n + 10$"
            ],
            "text/plain": [
              "      2                       \n",
              "0.25⋅n  + 0.5⋅n + 1 = 4⋅n + 10"
            ]
          },
          "execution_count": 10,
          "metadata": {},
          "output_type": "execute_result"
        }
      ],
      "source": [
        "e1 = Eq(f_quadratic, f_linear)\n",
        "e1"
      ]
    },
    {
      "cell_type": "code",
      "execution_count": null,
      "metadata": {
        "id": "F7Q57Uflm29Q",
        "outputId": "b9b7b03a-59f1-4e9f-9712-89c426af36fb"
      },
      "outputs": [
        {
          "data": {
            "image/png": "[encoded data removed]",
            "text/latex": [
              "$\\displaystyle \\left[ 16.2195444572929\\right]$"
            ],
            "text/plain": [
              "[16.2195444572929]"
            ]
          },
          "execution_count": 11,
          "metadata": {},
          "output_type": "execute_result"
        }
      ],
      "source": [
        "solve(e1, n)"
      ]
    },
    {
      "cell_type": "code",
      "execution_count": null,
      "metadata": {
        "id": "sCgVngAYm29R",
        "outputId": "1822f461-2ffd-4a11-a6df-5a49531d217f"
      },
      "outputs": [
        {
          "data": {
            "image/png": "[encoded data removed]",
            "text/latex": [
              "$\\displaystyle 16.2195444572929$"
            ],
            "text/plain": [
              "16.2195444572929"
            ]
          },
          "execution_count": 12,
          "metadata": {},
          "output_type": "execute_result"
        }
      ],
      "source": [
        "solve(e1, n)[0].evalf()"
      ]
    },
    {
      "cell_type": "markdown",
      "metadata": {
        "id": "6sm8nLOym29R"
      },
      "source": [
        "# Todo"
      ]
    },
    {
      "cell_type": "code",
      "execution_count": 22,
      "metadata": {
        "collapsed": true,
        "jupyter": {
          "outputs_hidden": true
        },
        "id": "UJ-NKxfwm29U"
      },
      "outputs": [],
      "source": [
        "# TODO: Define \n",
        "# - a logarithmic function\n",
        "# - a log-linear (n log n) function\n",
        "# - a cubic function\n",
        "# - an exponential function\n",
        "# - a factorial function\n",
        "\n",
        "import math\n",
        "import numpy as np\n",
        "\n",
        "n = symbols(\"n\", positive=True, real=True)\n",
        "\n",
        "f_log = log(n)\n",
        "f_loglinear = 10*n*log(n)\n",
        "f_cubic = 3*n**3 + 2*n**2 + n + 10 \n",
        "f_expo =  20 *exp(n) + 5\n",
        "f_fact = 10*factorial(n)"
      ]
    },
    {
      "cell_type": "code",
      "source": [
        "# TODO create multiple plots with different combinations of functions\n",
        "\n",
        "expr_range = (n,0.1,100)\n",
        "p1 = plot(\n",
        "    f_log,\n",
        "    f_loglinear,\n",
        "    f_cubic,\n",
        "    expr_range,\n",
        "    show = False,\n",
        "    legend = True\n",
        ");\n",
        "\n",
        "p1[0].line_color = 'g'\n",
        "p1[1].line_color = 'b'\n",
        "p1[2].line_color = 'r'\n",
        "\n",
        "\n",
        "\n",
        "p1[0].label = 'logarithmic'\n",
        "p1[1].label = 'log-linear'\n",
        "p1[2].label = 'cubic'\n",
        "\n",
        "p1.show()"
      ],
      "metadata": {
        "colab": {
          "base_uri": "https://localhost:8080/",
          "height": 297
        },
        "id": "qnYNuXI7EJnb",
        "outputId": "dd8d51d5-3b69-461c-da6e-fa5d3f6559a7"
      },
      "execution_count": 23,
      "outputs": [
        {
          "output_type": "display_data",
          "data": {
            "text/plain": [
              "<Figure size 432x288 with 1 Axes>"
            ],
            "image/png": "[encoded data removed]"
          },
          "metadata": {
            "needs_background": "light"
          }
        }
      ]
    },
    {
      "cell_type": "code",
      "source": [
        "# TODO create multiple plots with different combinations of functions\n",
        "\n",
        "expr_range = (n,0.1,100)\n",
        "p2 = plot(\n",
        "    f_expo,\n",
        "    f_fact,\n",
        "    expr_range,\n",
        "    show = False,\n",
        "    legend = True\n",
        ");\n",
        "\n",
        "p2[0].line_color = 'g'\n",
        "p2[1].line_color = 'b'\n",
        "\n",
        "\n",
        "\n",
        "p2[0].label = 'exponential'\n",
        "p2[1].label = 'factorial'\n",
        "\n",
        "p2.show()"
      ],
      "metadata": {
        "colab": {
          "base_uri": "https://localhost:8080/",
          "height": 366
        },
        "id": "g8DfH204Ebgx",
        "outputId": "85d366cc-9f8b-4f57-a0a9-ecffecdcc8ca"
      },
      "execution_count": 24,
      "outputs": [
        {
          "output_type": "stream",
          "name": "stderr",
          "text": [
            "/usr/local/lib/python3.7/dist-packages/sympy/plotting/plot.py:1486: RuntimeWarning: invalid value encountered in double_scalars\n",
            "  cos_theta = dot_product / (vector_a_norm * vector_b_norm)\n",
            "/usr/local/lib/python3.7/dist-packages/sympy/plotting/plot.py:1339: RuntimeWarning: overflow encountered in double_scalars\n",
            "  pos_bottom = ('data', 0) if yl*yh <= 0 else 'center'\n"
          ]
        },
        {
          "output_type": "display_data",
          "data": {
            "text/plain": [
              "<Figure size 432x288 with 1 Axes>"
            ],
            "image/png": "[encoded data removed]"
          },
          "metadata": {
            "needs_background": "light"
          }
        }
      ]
    },
    {
      "cell_type": "code",
      "execution_count": 25,
      "metadata": {
        "collapsed": true,
        "jupyter": {
          "outputs_hidden": true
        },
        "id": "lCnNU6bdm29V",
        "colab": {
          "base_uri": "https://localhost:8080/",
          "height": 297
        },
        "outputId": "40077c10-6aa8-4c3b-eeb6-5869c23bf886"
      },
      "outputs": [
        {
          "output_type": "display_data",
          "data": {
            "text/plain": [
              "<Figure size 432x288 with 1 Axes>"
            ],
            "image/png": "[encoded data removed]"
          },
          "metadata": {
            "needs_background": "light"
          }
        }
      ],
      "source": [
        "# TODO create a log-log plot with your factorial, exponential, quadratic, log-linear, and linear function\n",
        "\n",
        "expr_range = (n,1,20)\n",
        "\n",
        "p3 = plot(\n",
        "    f_log,\n",
        "    f_loglinear,\n",
        "    f_cubic,\n",
        "    f_expo,\n",
        "    f_fact,\n",
        "    expr_range,\n",
        "    show = False,\n",
        "    legend = True,\n",
        "    xscale=\"log\",\n",
        "    yscale=\"log\"\n",
        ")\n",
        "\n",
        "p3[0].line_color = 'g'\n",
        "p3[1].line_color = 'b'\n",
        "p3[2].line_color = 'r'\n",
        "p3[3].line_color = 'black'\n",
        "p3[4].line_color = 'yellow'\n",
        "\n",
        "\n",
        "\n",
        "p3[0].label = 'logarithmic'\n",
        "p3[1].label = 'log-linear'\n",
        "p3[2].label = 'cubic'\n",
        "p3[2].label = 'exponential'\n",
        "p3[2].label = 'factorial'\n",
        "\n",
        "\n",
        "\n",
        "p3.show()"
      ]
    },
    {
      "cell_type": "code",
      "execution_count": 44,
      "metadata": {
        "collapsed": true,
        "jupyter": {
          "outputs_hidden": true
        },
        "id": "PrdGZXYAm29V",
        "colab": {
          "base_uri": "https://localhost:8080/",
          "height": 39
        },
        "outputId": "de363e18-6944-42f3-c58d-ef9cbc9f6204"
      },
      "outputs": [
        {
          "output_type": "execute_result",
          "data": {
            "text/plain": [
              "              3      2         \n",
              "4⋅n + 10 = 3⋅n  + 2⋅n  + n + 10"
            ],
            "image/png": "[encoded data removed]",
            "text/latex": "$\\displaystyle 4 n + 10 = 3 n^{3} + 2 n^{2} + n + 10$"
          },
          "metadata": {},
          "execution_count": 44
        }
      ],
      "source": [
        "# TODO Calculate one crossover point for two functions\n",
        "\n",
        "e2 = Eq(f_linear, f_cubic)\n",
        "e2"
      ]
    },
    {
      "cell_type": "code",
      "source": [
        "solve(e2, n)[0].evalf()"
      ],
      "metadata": {
        "colab": {
          "base_uri": "https://localhost:8080/",
          "height": 38
        },
        "id": "l6XbYP4CF0Uw",
        "outputId": "579a14a7-a149-482b-a8bf-0723db668f45"
      },
      "execution_count": 45,
      "outputs": [
        {
          "output_type": "execute_result",
          "data": {
            "text/plain": [
              "0.720759220056126"
            ],
            "image/png": "[encoded data removed]",
            "text/latex": "$\\displaystyle 0.720759220056126$"
          },
          "metadata": {},
          "execution_count": 45
        }
      ]
    }
  ],
  "metadata": {
    "kernelspec": {
      "display_name": "Python 3 (ipykernel)",
      "language": "python",
      "name": "python3"
    },
    "language_info": {
      "codemirror_mode": {
        "name": "ipython",
        "version": 3
      },
      "file_extension": ".py",
      "mimetype": "text/x-python",
      "name": "python",
      "nbconvert_exporter": "python",
      "pygments_lexer": "ipython3",
      "version": "3.9.7"
    },
    "varInspector": {
      "cols": {
        "lenName": 16,
        "lenType": 16,
        "lenVar": 40
      },
      "kernels_config": {
        "python": {
          "delete_cmd_postfix": "",
          "delete_cmd_prefix": "del ",
          "library": "var_list.py",
          "varRefreshCmd": "print(var_dic_list())"
        },
        "r": {
          "delete_cmd_postfix": ") ",
          "delete_cmd_prefix": "rm(",
          "library": "var_list.r",
          "varRefreshCmd": "cat(var_dic_list()) "
        }
      },
      "types_to_exclude": [
        "module",
        "function",
        "builtin_function_or_method",
        "instance",
        "_Feature"
      ],
      "window_display": false
    },
    "colab": {
      "name": "EA-Time Complexity.ipynb",
      "provenance": [],
      "include_colab_link": true
    }
  },
  "nbformat": 4,
  "nbformat_minor": 0
}